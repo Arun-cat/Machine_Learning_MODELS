{
 "cells": [
  {
   "metadata": {
    "ExecuteTime": {
     "end_time": "2025-06-18T08:51:00.079737Z",
     "start_time": "2025-06-18T08:51:00.070506Z"
    }
   },
   "cell_type": "code",
   "source": [
    "import pandas as pd\n",
    "from sklearn.linear_model import LinearRegression\n",
    "data = pd.DataFrame({\n",
    "    'Area': [1000, 1500, 800, 1200, 1800, 950],\n",
    "    'Bedrooms': [2, 3, 2, 3, 4, 2],\n",
    "    'Price': [50, 75, 40, 60, 90, 45]\n",
    "})\n",
    "\n",
    "x = data[['Area', 'Bedrooms']]\n",
    "y = data[['Price']]\n",
    "\n",
    "model = LinearRegression()\n",
    "model.fit(x,y)\n",
    "\n",
    "test = pd.DataFrame([[1400 ,3]], columns=['Area', 'Bedrooms'])\n",
    "\n",
    "print(model.predict(test))"
   ],
   "id": "fe3012516f0f7b72",
   "outputs": [
    {
     "name": "stdout",
     "output_type": "stream",
     "text": [
      "[[69.69101124]]\n"
     ]
    }
   ],
   "execution_count": 2
  }
 ],
 "metadata": {
  "kernelspec": {
   "display_name": "Python 3",
   "language": "python",
   "name": "python3"
  },
  "language_info": {
   "codemirror_mode": {
    "name": "ipython",
    "version": 2
   },
   "file_extension": ".py",
   "mimetype": "text/x-python",
   "name": "python",
   "nbconvert_exporter": "python",
   "pygments_lexer": "ipython2",
   "version": "2.7.6"
  }
 },
 "nbformat": 4,
 "nbformat_minor": 5
}
