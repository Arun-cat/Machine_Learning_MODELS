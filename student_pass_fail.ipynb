{
 "cells": [
  {
   "cell_type": "code",
   "id": "initial_id",
   "metadata": {
    "collapsed": true
   },
   "source": [
    "import pandas as pd\n",
    "data = pd.read_csv(r'D:\\Data Science\\Project1\\Dataset\\studeny_pass_fail.csv')\n",
    "data.head()"
   ],
   "outputs": [],
   "execution_count": null
  },
  {
   "metadata": {
    "ExecuteTime": {
     "end_time": "2025-06-18T08:44:01.406054Z",
     "start_time": "2025-06-18T08:44:01.396920Z"
    }
   },
   "cell_type": "code",
   "source": [
    "data.duplicated().sum()\n",
    "data.isnull().sum()\n",
    "data.info()"
   ],
   "id": "670a9a373be87f0f",
   "outputs": [
    {
     "name": "stdout",
     "output_type": "stream",
     "text": [
      "<class 'pandas.core.frame.DataFrame'>\n",
      "RangeIndex: 6 entries, 0 to 5\n",
      "Data columns (total 3 columns):\n",
      " #   Column         Non-Null Count  Dtype  \n",
      "---  ------         --------------  -----  \n",
      " 0   Hours_Studied  6 non-null      float64\n",
      " 1   Hours_Slept    6 non-null      int64  \n",
      " 2   Pass           6 non-null      int64  \n",
      "dtypes: float64(1), int64(2)\n",
      "memory usage: 276.0 bytes\n"
     ]
    }
   ],
   "execution_count": 23
  },
  {
   "metadata": {
    "ExecuteTime": {
     "end_time": "2025-06-18T08:44:33.514211Z",
     "start_time": "2025-06-18T08:44:33.498399Z"
    }
   },
   "cell_type": "code",
   "source": [
    "from sklearn.linear_model import LogisticRegression\n",
    "import numpy as np\n",
    "\n",
    "x = data.drop('Pass', axis = 1)\n",
    "y = data['Pass']\n",
    "model = LogisticRegression()\n",
    "model.fit(x,y)\n",
    "\n",
    "inp = pd.DataFrame([[3.5, 6.5]], columns =['Hours_Studied','Hours_Slept'])\n",
    "res = model.predict(inp)\n",
    "if res == 1:\n",
    "    print('Pass')\n",
    "elif res == 0:\n",
    "    print('Failed')"
   ],
   "id": "6ca39ebc3bb28bdd",
   "outputs": [
    {
     "name": "stdout",
     "output_type": "stream",
     "text": [
      "Pass\n"
     ]
    }
   ],
   "execution_count": 24
  }
 ],
 "metadata": {
  "kernelspec": {
   "display_name": "Python 3",
   "language": "python",
   "name": "python3"
  },
  "language_info": {
   "codemirror_mode": {
    "name": "ipython",
    "version": 2
   },
   "file_extension": ".py",
   "mimetype": "text/x-python",
   "name": "python",
   "nbconvert_exporter": "python",
   "pygments_lexer": "ipython2",
   "version": "2.7.6"
  }
 },
 "nbformat": 4,
 "nbformat_minor": 5
}
