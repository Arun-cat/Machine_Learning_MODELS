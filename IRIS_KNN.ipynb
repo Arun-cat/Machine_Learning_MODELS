{
 "cells": [
  {
   "cell_type": "code",
   "id": "initial_id",
   "metadata": {
    "collapsed": true
   },
   "source": "import pandas as pd",
   "outputs": [],
   "execution_count": null
  },
  {
   "metadata": {},
   "cell_type": "code",
   "source": [
    "data = pd.read_csv(r'D:\\Data Science\\Project1\\First\\Dataset\\Iris.csv')\n",
    "data.info()"
   ],
   "id": "64f9108c469531ae",
   "outputs": [],
   "execution_count": null
  },
  {
   "metadata": {},
   "cell_type": "code",
   "source": [
    "print(data['Species'].unique())\n",
    "\n",
    "from sklearn.preprocessing import LabelEncoder\n",
    "le = LabelEncoder()\n",
    "data['Species'] = le.fit_transform(data['Species'])\n",
    "data.info()"
   ],
   "id": "66fdc966c930c4cf",
   "outputs": [],
   "execution_count": null
  },
  {
   "metadata": {},
   "cell_type": "code",
   "source": "data.isnull().sum()",
   "id": "76a537b85fee66e0",
   "outputs": [],
   "execution_count": null
  },
  {
   "metadata": {},
   "cell_type": "code",
   "source": [
    "import matplotlib.pyplot as plt\n",
    "import seaborn as sns\n",
    "\n",
    "plt.figure(figsize=(10,5))\n",
    "sns.heatmap(data.corr(numeric_only=True), annot=True)\n",
    "plt.show()"
   ],
   "id": "e78ef2a11afddcdc",
   "outputs": [],
   "execution_count": null
  },
  {
   "metadata": {},
   "cell_type": "code",
   "source": [
    "from sklearn.model_selection import train_test_split\n",
    "x1,x2,y1,y2 = train_test_split(data.drop('Species',axis=1),data['Species'],test_size=0.2, random_state=42)"
   ],
   "id": "3574c54146f6f26a",
   "outputs": [],
   "execution_count": null
  },
  {
   "metadata": {},
   "cell_type": "code",
   "source": [
    "from sklearn.preprocessing import StandardScaler\n",
    "ss =StandardScaler()\n",
    "x1 = ss.fit_transform(x1)\n",
    "x2 = ss.transform(x2)"
   ],
   "id": "601ee20efa83b41d",
   "outputs": [],
   "execution_count": null
  },
  {
   "metadata": {},
   "cell_type": "code",
   "source": [
    "from sklearn.neighbors import KNeighborsClassifier\n",
    "model = KNeighborsClassifier()\n",
    "model.fit(x1,y1)\n",
    "y_pred = model.predict(x2)"
   ],
   "id": "7fd697a487789706",
   "outputs": [],
   "execution_count": null
  },
  {
   "metadata": {},
   "cell_type": "code",
   "source": [
    "from sklearn.metrics import confusion_matrix, accuracy_score, classification_report\n",
    "\n",
    "print(confusion_matrix(y2,y_pred))\n",
    "print(accuracy_score(y2,y_pred))\n",
    "print(classification_report(y2,y_pred))"
   ],
   "id": "5b02a79909c620cb",
   "outputs": [],
   "execution_count": null
  }
 ],
 "metadata": {
  "kernelspec": {
   "display_name": "Python 3",
   "language": "python",
   "name": "python3"
  },
  "language_info": {
   "codemirror_mode": {
    "name": "ipython",
    "version": 2
   },
   "file_extension": ".py",
   "mimetype": "text/x-python",
   "name": "python",
   "nbconvert_exporter": "python",
   "pygments_lexer": "ipython2",
   "version": "2.7.6"
  }
 },
 "nbformat": 4,
 "nbformat_minor": 5
}
