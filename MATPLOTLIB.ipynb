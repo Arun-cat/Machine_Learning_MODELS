{
 "cells": [
  {
   "metadata": {},
   "cell_type": "code",
   "source": [
    "import matplotlib.pyplot as plt\n",
    "import seaborn as sns"
   ],
   "id": "7976f101dce7a53",
   "outputs": [],
   "execution_count": null
  },
  {
   "cell_type": "code",
   "id": "initial_id",
   "metadata": {
    "collapsed": true
   },
   "source": [
    "x = [1, 2, 3, 4]\n",
    "y = [10, 20, 25, 30]"
   ],
   "outputs": [],
   "execution_count": null
  },
  {
   "metadata": {},
   "cell_type": "code",
   "source": [
    "\n",
    "plt.scatter(x, y)\n",
    "plt.show()"
   ],
   "id": "e3086f4ab6dfc12b",
   "outputs": [],
   "execution_count": null
  },
  {
   "metadata": {},
   "cell_type": "code",
   "source": [
    "categories = ['A', 'B', 'C']\n",
    "values = [10, 25, 15]"
   ],
   "id": "2a02077ec9c3cba8",
   "outputs": [],
   "execution_count": null
  },
  {
   "metadata": {},
   "cell_type": "code",
   "source": [
    "plt.bar(categories, values)\n",
    "plt.show()"
   ],
   "id": "1d9c584db6f299ce",
   "outputs": [],
   "execution_count": null
  },
  {
   "metadata": {},
   "cell_type": "code",
   "source": [
    "import numpy as np\n",
    "data = np.random.randn(1000)\n",
    "\n",
    "plt.hist(data, bins=30)\n",
    "plt.title(\"Histogram\")\n",
    "plt.show()"
   ],
   "id": "684d19f94d1400c5",
   "outputs": [],
   "execution_count": null
  },
  {
   "metadata": {},
   "cell_type": "code",
   "source": [
    "sns.barplot(x=['A', 'B', 'C'], y=[10, 25, 15])\n",
    "plt.show()"
   ],
   "id": "9e36bab3ff6d5643",
   "outputs": [],
   "execution_count": null
  },
  {
   "metadata": {},
   "cell_type": "code",
   "source": [
    "import pandas as pd\n",
    "df = pd.DataFrame({\n",
    "    'Age': [22, 35, 58, 45, 23, 41, 37, 29, 60, 31],\n",
    "    'Salary': [22000, 50000, 90000, 60000, 25000, 52000, 48000, 39000, 95000, 43000],\n",
    "    'Gender': ['Male', 'Female', 'Female', 'Male', 'Male', 'Female', 'Female', 'Male', 'Female', 'Male']\n",
    "})"
   ],
   "id": "7432249b51a3beea",
   "outputs": [],
   "execution_count": null
  },
  {
   "metadata": {},
   "cell_type": "code",
   "source": [
    "plt.plot(df.Age,df.Salary)\n",
    "plt.title('Age vs Salary')\n",
    "plt.xlabel('Age')\n",
    "plt.ylabel('Salary')\n",
    "plt.show()"
   ],
   "id": "f88f414c9c6dba9",
   "outputs": [],
   "execution_count": null
  },
  {
   "metadata": {},
   "cell_type": "code",
   "source": [
    "sns.barplot(x= df.Gender, y= df.Salary)\n",
    "plt.title('Gender vs Salary')\n",
    "plt.xlabel('Gender')\n",
    "plt.ylabel('Salary')\n",
    "plt.show()"
   ],
   "id": "5076d4949c1429b8",
   "outputs": [],
   "execution_count": null
  },
  {
   "metadata": {},
   "cell_type": "code",
   "source": [
    "sns.boxplot(x= df.Gender, y= df.Salary)\n",
    "plt.title('Gender vs Salary')\n",
    "plt.xlabel('Gender')\n",
    "plt.ylabel('Salary')\n",
    "plt.show()"
   ],
   "id": "679ab4acca1c4a07",
   "outputs": [],
   "execution_count": null
  }
 ],
 "metadata": {
  "kernelspec": {
   "display_name": "Python 3",
   "language": "python",
   "name": "python3"
  },
  "language_info": {
   "codemirror_mode": {
    "name": "ipython",
    "version": 2
   },
   "file_extension": ".py",
   "mimetype": "text/x-python",
   "name": "python",
   "nbconvert_exporter": "python",
   "pygments_lexer": "ipython2",
   "version": "2.7.6"
  }
 },
 "nbformat": 4,
 "nbformat_minor": 5
}
