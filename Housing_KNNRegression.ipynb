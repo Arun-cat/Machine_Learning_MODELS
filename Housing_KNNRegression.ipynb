{
 "cells": [
  {
   "cell_type": "code",
   "id": "initial_id",
   "metadata": {
    "collapsed": true
   },
   "source": [
    "import pandas as pd\n",
    "import numpy as np\n",
    "import seaborn as sns\n",
    "import matplotlib.pyplot as plt\n",
    "from sklearn.preprocessing import StandardScaler\n",
    "from sklearn.model_selection import train_test_split\n",
    "from sklearn.neighbors import KNeighborsRegressor\n",
    "from sklearn.metrics import r2_score, mean_squared_error"
   ],
   "outputs": [],
   "execution_count": null
  },
  {
   "metadata": {},
   "cell_type": "code",
   "source": [
    "data = pd.read_csv(r'D:\\Data Science\\Project1\\First\\Dataset\\Housing.csv')\n",
    "data.info()"
   ],
   "id": "6a3bf5b2f5fb4ddf",
   "outputs": [],
   "execution_count": null
  },
  {
   "metadata": {},
   "cell_type": "code",
   "source": [
    "data.isnull().sum()\n",
    "data.duplicated().sum()"
   ],
   "id": "ff43ddfb0872cbee",
   "outputs": [],
   "execution_count": null
  },
  {
   "metadata": {},
   "cell_type": "code",
   "source": [
    "cat = data.select_dtypes(include=['object']).columns\n",
    "for i in cat:\n",
    "    print(data[i].unique())"
   ],
   "id": "4ab02c26f692cf2",
   "outputs": [],
   "execution_count": null
  },
  {
   "metadata": {},
   "cell_type": "code",
   "source": [
    "for j in cat:\n",
    "    dummies = pd.get_dummies(data[j], prefix=j,drop_first=True)\n",
    "    data.drop(j,axis=1,inplace=True)\n",
    "    data= pd.concat([data, dummies], axis=1)"
   ],
   "id": "122433f89835b632",
   "outputs": [],
   "execution_count": null
  },
  {
   "metadata": {},
   "cell_type": "code",
   "source": "data.info()",
   "id": "c5c15a940dcd603a",
   "outputs": [],
   "execution_count": null
  },
  {
   "metadata": {},
   "cell_type": "code",
   "source": [
    "corss = data.corr(numeric_only=True)\n",
    "\n",
    "plt.figure(figsize=(10,5))\n",
    "sns.heatmap(corss, annot=True)\n",
    "plt.show()"
   ],
   "id": "1c81d0982ab191b7",
   "outputs": [],
   "execution_count": null
  },
  {
   "metadata": {},
   "cell_type": "code",
   "source": [
    "x = data.drop('price',axis = 1)\n",
    "y = data['price']\n",
    "\n",
    "x_train,x_test,y_train,y_test = train_test_split(x,y,random_state=42,test_size=0.2)"
   ],
   "id": "b3535e6b95301a7a",
   "outputs": [],
   "execution_count": null
  },
  {
   "metadata": {},
   "cell_type": "code",
   "source": [
    "scalar = StandardScaler()\n",
    "x_train = scalar.fit_transform(x_train)\n",
    "x_test = scalar.transform(x_test)"
   ],
   "id": "fc6cd20a01ac8a21",
   "outputs": [],
   "execution_count": null
  },
  {
   "metadata": {},
   "cell_type": "code",
   "source": [
    "for k in range(1, 21):model = KNeighborsRegressor()\n",
    "model.fit(x_train,y_train)\n",
    "ypred = model.predict(x_test)"
   ],
   "id": "e9b8a2d92a320860",
   "outputs": [],
   "execution_count": null
  },
  {
   "metadata": {},
   "cell_type": "code",
   "source": [
    "print(\"mean_squared_error:\\n\",np.sqrt(mean_squared_error(y_test,ypred)))\n",
    "print(\"r2_score:\\n\", r2_score(y_test,ypred))"
   ],
   "id": "b6f70e2921126a48",
   "outputs": [],
   "execution_count": null
  },
  {
   "metadata": {},
   "cell_type": "code",
   "source": [
    "plt.figure(figsize=(8, 4))\n",
    "sns.boxplot(x=data['price'])\n",
    "plt.title(\"Boxplot of Prices\")\n",
    "plt.show()"
   ],
   "id": "1b48a05830182fd9",
   "outputs": [],
   "execution_count": null
  },
  {
   "metadata": {},
   "cell_type": "code",
   "source": [
    "from sklearn.model_selection import cross_val_score\n",
    "\n",
    "model = KNeighborsRegressor(n_neighbors=5)\n",
    "scores = cross_val_score(model, x, y, cv=5, scoring='r2')\n",
    "print(\"Cross-validated R² Scores:\", scores)\n",
    "print(\"Mean R²:\", scores.mean())"
   ],
   "id": "4c9505511b1468f7",
   "outputs": [],
   "execution_count": null
  }
 ],
 "metadata": {
  "kernelspec": {
   "display_name": "Python 3",
   "language": "python",
   "name": "python3"
  },
  "language_info": {
   "codemirror_mode": {
    "name": "ipython",
    "version": 2
   },
   "file_extension": ".py",
   "mimetype": "text/x-python",
   "name": "python",
   "nbconvert_exporter": "python",
   "pygments_lexer": "ipython2",
   "version": "2.7.6"
  }
 },
 "nbformat": 4,
 "nbformat_minor": 5
}
