{
 "cells": [
  {
   "metadata": {},
   "cell_type": "markdown",
   "source": "IMPORTS",
   "id": "d755ea82ce0f81b0"
  },
  {
   "cell_type": "code",
   "id": "initial_id",
   "metadata": {
    "collapsed": true
   },
   "source": [
    "import pandas as pd\n",
    "import numpy as np\n",
    "import matplotlib.pyplot as plt\n",
    "import seaborn as sns\n",
    "from sklearn. preprocessing import StandardScaler\n",
    "from sklearn.model_selection import train_test_split\n",
    "from sklearn.svm import SVR\n",
    "from sklearn.metrics import r2_score, mean_squared_error"
   ],
   "outputs": [],
   "execution_count": null
  },
  {
   "metadata": {},
   "cell_type": "markdown",
   "source": "DATA VIEWING",
   "id": "de596b341f60617b"
  },
  {
   "metadata": {},
   "cell_type": "code",
   "source": [
    "data = pd.read_csv(r'D:\\Data Science\\Project1\\First\\Dataset\\housing.csv')\n",
    "data.info()"
   ],
   "id": "1405bc8b5518df79",
   "outputs": [],
   "execution_count": null
  },
  {
   "metadata": {},
   "cell_type": "markdown",
   "source": "DATA CLEANING",
   "id": "2b04318b8b5c1e49"
  },
  {
   "metadata": {},
   "cell_type": "code",
   "source": [
    "oceandum = pd.get_dummies(data['ocean_proximity'], drop_first=True)\n",
    "data.drop('ocean_proximity', inplace=True, axis=True)\n",
    "data = pd.concat([data,oceandum], axis=1)\n",
    "\n",
    "data['total_bedrooms'] = data['total_bedrooms'].fillna(data['total_bedrooms'].mean())"
   ],
   "id": "4ee8ff8241d4aea0",
   "outputs": [],
   "execution_count": null
  },
  {
   "metadata": {},
   "cell_type": "markdown",
   "source": "SPLITING AND STANDARDISING",
   "id": "78b7acdd0e2a5a13"
  },
  {
   "metadata": {},
   "cell_type": "code",
   "source": [
    "x_train,x_test,y_train,y_test = train_test_split(data.drop(['median_house_value'], axis = True),data['median_house_value'], random_state=42, test_size=0.2)\n",
    "\n",
    "ss= StandardScaler()\n",
    "x_train = ss.fit_transform(x_train)\n",
    "x_test = ss.transform(x_test)"
   ],
   "id": "e01002b3dbe34a27",
   "outputs": [],
   "execution_count": null
  },
  {
   "metadata": {},
   "cell_type": "markdown",
   "source": "CHECKING CORELATIONS",
   "id": "f6816aed5c2db07b"
  },
  {
   "metadata": {},
   "cell_type": "code",
   "source": [
    "plt.figure(figsize=(10,5))\n",
    "sns.heatmap(data.corr(numeric_only= True), annot = True)\n",
    "plt.title(\"Correlation Map\")\n",
    "plt.xlabel('Variable')\n",
    "plt.ylabel('Variable')\n",
    "plt.show()"
   ],
   "id": "594229b60b7204eb",
   "outputs": [],
   "execution_count": null
  },
  {
   "metadata": {},
   "cell_type": "markdown",
   "source": "TRAIN MODEL",
   "id": "29a3a6d3a592281d"
  },
  {
   "metadata": {},
   "cell_type": "code",
   "source": [
    "model = SVR()\n",
    "model.fit(x_train,y_train)\n",
    "ypred= model.predict(x_test)"
   ],
   "id": "5f7d267daeec64e7",
   "outputs": [],
   "execution_count": null
  },
  {
   "metadata": {},
   "cell_type": "markdown",
   "source": "CHECK SCORE",
   "id": "53d677190384f374"
  },
  {
   "metadata": {},
   "cell_type": "code",
   "source": [
    "print(\"R2Score:\", r2_score(y_test,ypred))\n",
    "print(\"mean_squared_error:\", np.sqrt(mean_squared_error(y_test,ypred)))"
   ],
   "id": "51c02f76818b52ef",
   "outputs": [],
   "execution_count": null
  }
 ],
 "metadata": {
  "kernelspec": {
   "display_name": "Python 3",
   "language": "python",
   "name": "python3"
  },
  "language_info": {
   "codemirror_mode": {
    "name": "ipython",
    "version": 2
   },
   "file_extension": ".py",
   "mimetype": "text/x-python",
   "name": "python",
   "nbconvert_exporter": "python",
   "pygments_lexer": "ipython2",
   "version": "2.7.6"
  }
 },
 "nbformat": 4,
 "nbformat_minor": 5
}
