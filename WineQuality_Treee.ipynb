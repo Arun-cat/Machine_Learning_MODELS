{
 "cells": [
  {
   "metadata": {},
   "cell_type": "code",
   "source": [
    "import pandas as pd\n",
    "from sklearn.model_selection import train_test_split"
   ],
   "id": "6f540b6852820bb2",
   "outputs": [],
   "execution_count": null
  },
  {
   "cell_type": "code",
   "id": "initial_id",
   "metadata": {
    "collapsed": true
   },
   "source": [
    "data = pd.read_csv(r'D:\\Data Science\\Project1\\First\\Dataset\\winequality-red.csv')\n",
    "data.info()"
   ],
   "outputs": [],
   "execution_count": null
  },
  {
   "metadata": {},
   "cell_type": "code",
   "source": "data.isnull().sum()",
   "id": "c9f87c79ce8c1d11",
   "outputs": [],
   "execution_count": null
  },
  {
   "metadata": {},
   "cell_type": "code",
   "source": [
    "x = data.drop('quality', axis = 1)\n",
    "y = data['quality']\n",
    "x_train,x_test,y_train,y_test = train_test_split(x,y, test_size =0.2, random_state = 42)"
   ],
   "id": "46dfcc12f2b2434a",
   "outputs": [],
   "execution_count": null
  },
  {
   "metadata": {},
   "cell_type": "code",
   "source": [
    "from sklearn.preprocessing import StandardScaler\n",
    "\n",
    "sc = StandardScaler()\n",
    "x_train = sc.fit_transform(x_train)\n",
    "x_test = sc.transform(x_test)"
   ],
   "id": "ad2a416a8ab5fe2e",
   "outputs": [],
   "execution_count": null
  },
  {
   "metadata": {},
   "cell_type": "code",
   "source": [
    "from sklearn.tree import DecisionTreeRegressor\n",
    "from sklearn.metrics import mean_squared_error, r2_score\n",
    "import numpy as np\n",
    "\n",
    "for i in range(1,15):\n",
    "    model = DecisionTreeRegressor(max_depth=i, random_state=42)\n",
    "    model.fit(x_train, y_train)\n",
    "    y_pred = model.predict(x_test)\n",
    "    print(\"R2:\",r2_score(y_test, y_pred))\n",
    "    print(\"MSE\",np.sqrt(mean_squared_error(y_test, y_pred)))"
   ],
   "id": "acbcb194dee1ddc2",
   "outputs": [],
   "execution_count": null
  },
  {
   "metadata": {},
   "cell_type": "code",
   "source": [
    "from sklearn.model_selection import cross_val_score\n",
    "\n",
    "scores = cross_val_score(model, x, y, scoring='r2', cv=5)\n",
    "print(\"Cross-validated R²:\", scores)\n",
    "print(\"Mean R²:\", scores.mean())"
   ],
   "id": "520edcbd05a99a21",
   "outputs": [],
   "execution_count": null
  }
 ],
 "metadata": {
  "kernelspec": {
   "display_name": "Python 3",
   "language": "python",
   "name": "python3"
  },
  "language_info": {
   "codemirror_mode": {
    "name": "ipython",
    "version": 2
   },
   "file_extension": ".py",
   "mimetype": "text/x-python",
   "name": "python",
   "nbconvert_exporter": "python",
   "pygments_lexer": "ipython2",
   "version": "2.7.6"
  }
 },
 "nbformat": 4,
 "nbformat_minor": 5
}
