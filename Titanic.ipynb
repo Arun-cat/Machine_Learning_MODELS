{
 "cells": [
  {
   "metadata": {},
   "cell_type": "markdown",
   "source": "Imports",
   "id": "33b62c14a308023b"
  },
  {
   "cell_type": "code",
   "id": "initial_id",
   "metadata": {
    "collapsed": true,
    "ExecuteTime": {
     "end_time": "2025-06-20T16:40:11.107064Z",
     "start_time": "2025-06-20T16:40:09.688371Z"
    }
   },
   "source": [
    "import pandas as pd\n",
    "import matplotlib.pyplot as plt\n",
    "import seaborn as sns\n",
    "from sklearn.preprocessing import StandardScaler\n",
    "from sklearn.ensemble import RandomForestClassifier"
   ],
   "outputs": [],
   "execution_count": 2
  },
  {
   "metadata": {},
   "cell_type": "markdown",
   "source": "Check DATA",
   "id": "1f794871c11bc211"
  },
  {
   "metadata": {
    "ExecuteTime": {
     "end_time": "2025-06-20T16:40:38.010802Z",
     "start_time": "2025-06-20T16:40:37.995500Z"
    }
   },
   "cell_type": "code",
   "source": [
    "train = pd.read_csv(r'D:\\Data Science\\Project1\\First\\Dataset\\train.csv')\n",
    "test = pd.read_csv(r'D:\\Data Science\\Project1\\First\\Dataset\\test.csv')\n",
    "test.info()"
   ],
   "id": "1917df1819eb52e0",
   "outputs": [
    {
     "name": "stdout",
     "output_type": "stream",
     "text": [
      "<class 'pandas.core.frame.DataFrame'>\n",
      "RangeIndex: 418 entries, 0 to 417\n",
      "Data columns (total 11 columns):\n",
      " #   Column       Non-Null Count  Dtype  \n",
      "---  ------       --------------  -----  \n",
      " 0   PassengerId  418 non-null    int64  \n",
      " 1   Pclass       418 non-null    int64  \n",
      " 2   Name         418 non-null    object \n",
      " 3   Sex          418 non-null    object \n",
      " 4   Age          332 non-null    float64\n",
      " 5   SibSp        418 non-null    int64  \n",
      " 6   Parch        418 non-null    int64  \n",
      " 7   Ticket       418 non-null    object \n",
      " 8   Fare         417 non-null    float64\n",
      " 9   Cabin        91 non-null     object \n",
      " 10  Embarked     418 non-null    object \n",
      "dtypes: float64(2), int64(4), object(5)\n",
      "memory usage: 36.1+ KB\n"
     ]
    }
   ],
   "execution_count": 5
  },
  {
   "metadata": {},
   "cell_type": "code",
   "source": [
    "def cleandata(data):\n",
    "    data['Fare'] = data['Fare'].fillna(data['Fare'].mean())\n",
    "    data = data.drop('Cabin', axis=1)\n",
    "    data['Age'] = data['Age'].fillna(data['Age'].mean())\n",
    "    data['Embarked'] = data['Embarked'].fillna(data['Embarked'].mode()[0])\n",
    "    data2 = pd.get_dummies(data['Embarked'], drop_first=True)\n",
    "    data3 = pd.get_dummies(data['Sex'], drop_first=True)\n",
    "    dropg = ['Embarked','Name', 'Ticket','Sex']\n",
    "    data.drop(dropg, axis=1, inplace=True)\n",
    "    data= pd.concat([data,data2], axis=1)\n",
    "    data= pd.concat([data,data3], axis=1)\n",
    "\n",
    "\n",
    "    corr = data.corr(numeric_only=True)\n",
    "    plt.figure(figsize = (8,8))\n",
    "    sns.heatmap(corr, annot=True, cmap='coolwarm')\n",
    "    plt.title(\"Corelation\")\n",
    "    plt.show()\n",
    "\n",
    "    res = data[['Pclass','Age','SibSp','Parch','Fare','Q','S']]\n",
    "    return res"
   ],
   "id": "add905a2a9aef832",
   "outputs": [],
   "execution_count": null
  },
  {
   "metadata": {},
   "cell_type": "markdown",
   "source": "SPLIT THE DATA",
   "id": "4a3b374c6f84099c"
  },
  {
   "metadata": {},
   "cell_type": "code",
   "source": [
    "x_train = cleandata(train)\n",
    "x_test = cleandata(test)\n",
    "y_train = train['Survived']"
   ],
   "id": "bf998f468b8147c2",
   "outputs": [],
   "execution_count": null
  },
  {
   "metadata": {},
   "cell_type": "code",
   "source": [
    "scaler = StandardScaler()\n",
    "x_train_scaled = scaler.fit_transform(x_train)\n",
    "x_test_scaled = scaler.transform(x_test)"
   ],
   "id": "deb1ca1dc7c8efe2",
   "outputs": [],
   "execution_count": null
  },
  {
   "metadata": {},
   "cell_type": "markdown",
   "source": "TRAIN MODEL",
   "id": "b223d588bd79e7c9"
  },
  {
   "metadata": {},
   "cell_type": "code",
   "source": [
    "model =RandomForestClassifier()\n",
    "model.fit(x_train, y_train)\n",
    "y_pred = model.predict(x_test)\n",
    "\n",
    "print(y_pred[:])"
   ],
   "id": "22cfffcdf62196f4",
   "outputs": [],
   "execution_count": null
  }
 ],
 "metadata": {
  "kernelspec": {
   "display_name": "Python 3",
   "language": "python",
   "name": "python3"
  },
  "language_info": {
   "codemirror_mode": {
    "name": "ipython",
    "version": 2
   },
   "file_extension": ".py",
   "mimetype": "text/x-python",
   "name": "python",
   "nbconvert_exporter": "python",
   "pygments_lexer": "ipython2",
   "version": "2.7.6"
  }
 },
 "nbformat": 4,
 "nbformat_minor": 5
}
