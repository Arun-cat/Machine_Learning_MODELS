{
 "cells": [
  {
   "metadata": {},
   "cell_type": "markdown",
   "source": "IMPORTS",
   "id": "21a0d0f8964119c1"
  },
  {
   "cell_type": "code",
   "id": "initial_id",
   "metadata": {
    "collapsed": true
   },
   "source": [
    "import pandas as pd\n",
    "import numpy as np\n",
    "import matplotlib.pyplot as plt\n",
    "import seaborn as sns\n",
    "from sklearn.preprocessing import StandardScaler\n",
    "from sklearn.model_selection import train_test_split\n",
    "from sklearn.linear_model import Ridge, Lasso, ElasticNet\n",
    "from sklearn.metrics import r2_score, mean_squared_error"
   ],
   "outputs": [],
   "execution_count": null
  },
  {
   "metadata": {},
   "cell_type": "markdown",
   "source": "DATA VIEW",
   "id": "38f869cb1188b871"
  },
  {
   "metadata": {},
   "cell_type": "code",
   "source": [
    "data =  pd.read_excel(r'D:\\Data Science\\Project1\\First\\Dataset\\Concrete_Data.xls',  names=['Cement', 'Slag', 'FlyAsh', 'Water', 'Superplasticizer',\n",
    "           'CoarseAggr', 'FineAggr', 'Age', 'Strength'])\n",
    "data.info()\n",
    "data.head()"
   ],
   "id": "86740df741999da",
   "outputs": [],
   "execution_count": null
  },
  {
   "metadata": {},
   "cell_type": "markdown",
   "source": "Visualise Correlation",
   "id": "765d1d35c30ec4b8"
  },
  {
   "metadata": {},
   "cell_type": "code",
   "source": [
    "plt.figure(figsize=(10,5))\n",
    "sns.heatmap(data.corr(numeric_only=True), annot=True)\n",
    "plt.show()"
   ],
   "id": "ed2af357f6925084",
   "outputs": [],
   "execution_count": null
  },
  {
   "metadata": {},
   "cell_type": "markdown",
   "source": "TRAIN AND STANDARDISING",
   "id": "77f461265a880678"
  },
  {
   "metadata": {},
   "cell_type": "code",
   "source": [
    "x_train,x_test,y_train,y_test = train_test_split(data.drop('Strength', axis=1), data['Strength'], test_size=0.2, random_state=42)\n",
    "\n",
    "sc = StandardScaler()\n",
    "x_train = sc.fit_transform(x_train)\n",
    "x_test = sc.transform(x_test)"
   ],
   "id": "2a6e29f8efa41ad5",
   "outputs": [],
   "execution_count": null
  },
  {
   "metadata": {},
   "cell_type": "markdown",
   "source": "MODEL_BUILDING_RIDGE",
   "id": "b5344dc7a5acc824"
  },
  {
   "metadata": {},
   "cell_type": "code",
   "source": [
    "for alpha in [0.01, 0.1, 1, 10, 100]:\n",
    "    model = Ridge(alpha=alpha)\n",
    "    model.fit(x_train,y_train)\n",
    "    ypred = model.predict(x_test)\n",
    "    print(\"R2: \", r2_score(y_test,ypred))\n",
    "    print(\"MSE: \", np.sqrt(mean_squared_error(y_test,ypred)))"
   ],
   "id": "505d8d51abf4e3ca",
   "outputs": [],
   "execution_count": null
  },
  {
   "metadata": {},
   "cell_type": "markdown",
   "source": "MODEL_BUILDING_LASSO",
   "id": "b904d93a39b3c4a1"
  },
  {
   "metadata": {},
   "cell_type": "code",
   "source": [
    "for alpha in [0.01, 0.1, 1, 10, 100]:\n",
    "    model = Lasso(alpha=alpha)\n",
    "    model.fit(x_train,y_train)\n",
    "    ypred = model.predict(x_test)\n",
    "    print(\"R2: \", r2_score(y_test,ypred))\n",
    "    print(\"MSE: \", np.sqrt(mean_squared_error(y_test,ypred)))"
   ],
   "id": "beda74d979f3076e",
   "outputs": [],
   "execution_count": null
  },
  {
   "metadata": {},
   "cell_type": "markdown",
   "source": "MODEL_BUILDING_ELASTICNET",
   "id": "10aa7f0ab1da6943"
  },
  {
   "metadata": {},
   "cell_type": "code",
   "source": [
    "for alpha in [0.01, 0.1, 1, 10, 100]:\n",
    "    model = ElasticNet(alpha=alpha, l1_ratio=0.5, random_state=42)\n",
    "    model.fit(x_train,y_train)\n",
    "    ypred = model.predict(x_test)\n",
    "    print(\"R2: \", r2_score(y_test,ypred))\n",
    "    print(\"MSE: \", np.sqrt(mean_squared_error(y_test,ypred)))"
   ],
   "id": "d89543705bf30958",
   "outputs": [],
   "execution_count": null
  }
 ],
 "metadata": {
  "kernelspec": {
   "display_name": "Python 3",
   "language": "python",
   "name": "python3"
  },
  "language_info": {
   "codemirror_mode": {
    "name": "ipython",
    "version": 2
   },
   "file_extension": ".py",
   "mimetype": "text/x-python",
   "name": "python",
   "nbconvert_exporter": "python",
   "pygments_lexer": "ipython2",
   "version": "2.7.6"
  }
 },
 "nbformat": 4,
 "nbformat_minor": 5
}
